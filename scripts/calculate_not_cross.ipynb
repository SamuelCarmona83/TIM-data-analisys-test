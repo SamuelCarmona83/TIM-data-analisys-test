{
 "cells": [
  {
   "cell_type": "code",
   "execution_count": 2,
   "metadata": {},
   "outputs": [],
   "source": [
    "import psycopg2\n",
    "from psycopg2 import extras\n",
    "import os\n",
    "from dotenv import load_dotenv"
   ]
  },
  {
   "cell_type": "code",
   "execution_count": 3,
   "metadata": {},
   "outputs": [],
   "source": [
    "load_dotenv()\n",
    "\n",
    "# Parámetros de la base de datos\n",
    "db_params = {\n",
    "    \"dbname\": os.getenv(\"DB_NAME\"),\n",
    "    \"user\": os.getenv(\"DB_USER\"),\n",
    "    \"password\": os.getenv(\"DB_PASSWORD\"),\n",
    "    \"host\": os.getenv(\"DB_HOST\"),\n",
    "    \"port\": os.getenv(\"DB_PORT\")\n",
    "}"
   ]
  },
  {
   "cell_type": "code",
   "execution_count": 4,
   "metadata": {},
   "outputs": [],
   "source": [
    "query_crossed_transactions = \"\"\"\n",
    "    SELECT\n",
    "        COUNT(*) AS crossed_count\n",
    "    FROM clap c\n",
    "    JOIN bansur b ON c.INICIO6_TARJETA || c.FINAL4_TARJETA = b.TARJETA\n",
    "                 AND c.MONTO = b.MONTO\n",
    "                 AND c.FECHA_TRANSACCION = b.FECHA_TRANSACCION\n",
    "\"\"\"\n",
    "\n",
    "with psycopg2.connect(**db_params) as conn:\n",
    "    with conn.cursor() as cursor:\n",
    "        cursor.execute(query_crossed_transactions)\n",
    "        crossed_count = cursor.fetchone()[0]"
   ]
  },
  {
   "cell_type": "code",
   "execution_count": 5,
   "metadata": {},
   "outputs": [],
   "source": [
    "query_total_clap_transactions = \"\"\"\n",
    "    SELECT COUNT(*) FROM clap\n",
    "\"\"\""
   ]
  },
  {
   "cell_type": "code",
   "execution_count": 6,
   "metadata": {},
   "outputs": [],
   "source": [
    "with psycopg2.connect(**db_params) as conn:\n",
    "    with conn.cursor() as cursor:\n",
    "        cursor.execute(query_total_clap_transactions)\n",
    "        total_clap_transactions = cursor.fetchone()[0]"
   ]
  },
  {
   "cell_type": "code",
   "execution_count": 7,
   "metadata": {},
   "outputs": [
    {
     "name": "stdout",
     "output_type": "stream",
     "text": [
      "Porcentaje de transacciones no cruzadas: 38.31%\n"
     ]
    }
   ],
   "source": [
    "if total_clap_transactions > 0:\n",
    "    porcentaje_cruzadas = (crossed_count / total_clap_transactions) * 100\n",
    "    print(f\"Porcentaje de transacciones no cruzadas: {100-porcentaje_cruzadas:.2f}%\")\n",
    "else:\n",
    "    print(\"No hay transacciones en la tabla CLAP para calcular el porcentaje.\")"
   ]
  }
 ],
 "metadata": {
  "kernelspec": {
   "display_name": "Python 3 (ipykernel)",
   "language": "python",
   "name": "python3"
  },
  "language_info": {
   "codemirror_mode": {
    "name": "ipython",
    "version": 3
   },
   "file_extension": ".py",
   "mimetype": "text/x-python",
   "name": "python",
   "nbconvert_exporter": "python",
   "pygments_lexer": "ipython3",
   "version": "3.8.17"
  },
  "orig_nbformat": 4
 },
 "nbformat": 4,
 "nbformat_minor": 2
}
