{
 "cells": [
  {
   "cell_type": "code",
   "execution_count": 7,
   "id": "d1475f74-bb91-422e-b3f2-bed616692c46",
   "metadata": {},
   "outputs": [],
   "source": [
    "import psycopg2\n",
    "from psycopg2 import extras\n",
    "import os\n",
    "from dotenv import load_dotenv"
   ]
  },
  {
   "cell_type": "code",
   "execution_count": 8,
   "id": "ace00388-12c3-4f08-8be4-90779cd52c01",
   "metadata": {},
   "outputs": [],
   "source": [
    "# Parámetros de la base de datos\n",
    "db_params = {\n",
    "    \"dbname\": os.getenv(\"DB_NAME\"),\n",
    "    \"user\": os.getenv(\"DB_USER\"),\n",
    "    \"password\": os.getenv(\"DB_PASSWORD\"),\n",
    "    \"host\": os.getenv(\"DB_HOST\"),\n",
    "    \"port\": os.getenv(\"DB_PORT\")\n",
    "}\n",
    "\n",
    "# Consulta única para obtener datos de ambas tablas\n",
    "query_combined = \"\"\"\n",
    "    SELECT\n",
    "        'clap' AS source,\n",
    "        INICIO6_TARJETA || FINAL4_TARJETA AS tarjeta,\n",
    "        MONTO,\n",
    "        FECHA_TRANSACCION\n",
    "    FROM clap\n",
    "    UNION ALL\n",
    "    SELECT\n",
    "        'bansur' AS source,\n",
    "        TARJETA,\n",
    "        MONTO,\n",
    "        FECHA_TRANSACCION\n",
    "    FROM bansur\n",
    "\"\"\""
   ]
  },
  {
   "cell_type": "code",
   "execution_count": 9,
   "id": "a19717cc-bb59-4191-a8c9-fd0537a7bf66",
   "metadata": {},
   "outputs": [],
   "source": [
    "with psycopg2.connect(**db_params) as conn:\n",
    "    with conn.cursor(cursor_factory=extras.RealDictCursor) as cursor:\n",
    "        cursor.execute(query_combined)\n",
    "        all_transacciones = cursor.fetchall()"
   ]
  },
  {
   "cell_type": "code",
   "execution_count": 10,
   "id": "e82db46f-c237-4f8e-ac4d-724aea87b200",
   "metadata": {},
   "outputs": [],
   "source": [
    "transacciones_bansur_dict = {trans['tarjeta']: trans for trans in all_transacciones if trans['source'] == 'bansur'}\n",
    "transacciones_cruzadas = 0\n",
    "transacciones_totales = len([trans for trans in all_transacciones if trans['source'] == 'clap'])"
   ]
  },
  {
   "cell_type": "code",
   "execution_count": 11,
   "id": "4c4fe50a-6025-41c2-8d39-adb5808af551",
   "metadata": {},
   "outputs": [],
   "source": [
    "for clap_transaccion in all_transacciones:\n",
    "    if clap_transaccion['source'] == 'clap':\n",
    "        clap_tarjeta = clap_transaccion['tarjeta']\n",
    "        clap_monto = clap_transaccion['monto']\n",
    "        clap_fecha = clap_transaccion['fecha_transaccion']\n",
    "        \n",
    "        if clap_tarjeta in transacciones_bansur_dict:\n",
    "            bansur_transaccion = transacciones_bansur_dict[clap_tarjeta]\n",
    "            bansur_monto = bansur_transaccion['monto']\n",
    "            bansur_fecha = bansur_transaccion['fecha_transaccion']\n",
    "            \n",
    "            if abs(clap_monto - bansur_monto) <= 0.99 and clap_fecha == bansur_fecha:\n",
    "                transacciones_cruzadas += 1"
   ]
  },
  {
   "cell_type": "code",
   "execution_count": 6,
   "id": "6ccf0683-4608-42a3-860b-ff0056258784",
   "metadata": {},
   "outputs": [
    {
     "name": "stdout",
     "output_type": "stream",
     "text": [
      "Porcentaje de transacciones cruzadas: 37.38%\n"
     ]
    }
   ],
   "source": [
    "if transacciones_totales > 0:\n",
    "    porcentaje_cruzadas = (transacciones_cruzadas / transacciones_totales) * 100\n",
    "    print(f\"Porcentaje de transacciones cruzadas: {porcentaje_cruzadas:.2f}%\")\n",
    "else:\n",
    "    print(\"No hay transacciones para calcular el porcentaje.\")"
   ]
  }
 ],
 "metadata": {
  "kernelspec": {
   "display_name": "Python 3 (ipykernel)",
   "language": "python",
   "name": "python3"
  },
  "language_info": {
   "codemirror_mode": {
    "name": "ipython",
    "version": 3
   },
   "file_extension": ".py",
   "mimetype": "text/x-python",
   "name": "python",
   "nbconvert_exporter": "python",
   "pygments_lexer": "ipython3",
   "version": "3.8.17"
  }
 },
 "nbformat": 4,
 "nbformat_minor": 5
}
